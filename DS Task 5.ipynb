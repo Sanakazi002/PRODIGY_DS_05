{
 "cells": [
  {
   "cell_type": "markdown",
   "id": "64b7d56f-5ed5-4f72-bbc8-6fd6a4dd6973",
   "metadata": {},
   "source": [
    "# Importing necessary libraries."
   ]
  },
  {
   "cell_type": "code",
   "execution_count": 171,
   "id": "8095747c-b466-46de-ac9d-554b0a7ae00a",
   "metadata": {},
   "outputs": [],
   "source": [
    "import numpy as np\n",
    "import pandas as pd\n",
    "import seaborn as sns\n",
    "import matplotlib.pyplot as plt"
   ]
  },
  {
   "cell_type": "markdown",
   "id": "a69c9f06-bf61-4cde-82e1-41abdc9eaeda",
   "metadata": {},
   "source": [
    "# Loading dataset"
   ]
  },
  {
   "cell_type": "code",
   "execution_count": 172,
   "id": "19e242fc-6cb4-4332-82c9-cf5df27ddbe3",
   "metadata": {},
   "outputs": [],
   "source": [
    "us=pd.read_csv(\"C:\\\\Users\\\\admin\\\\Desktop\\\\us1.csv\")"
   ]
  },
  {
   "cell_type": "code",
   "execution_count": 173,
   "id": "ed2c3d72-366b-4424-9af4-e357f1987f1c",
   "metadata": {},
   "outputs": [
    {
     "data": {
      "text/html": [
       "<div>\n",
       "<style scoped>\n",
       "    .dataframe tbody tr th:only-of-type {\n",
       "        vertical-align: middle;\n",
       "    }\n",
       "\n",
       "    .dataframe tbody tr th {\n",
       "        vertical-align: top;\n",
       "    }\n",
       "\n",
       "    .dataframe thead th {\n",
       "        text-align: right;\n",
       "    }\n",
       "</style>\n",
       "<table border=\"1\" class=\"dataframe\">\n",
       "  <thead>\n",
       "    <tr style=\"text-align: right;\">\n",
       "      <th></th>\n",
       "      <th>ID</th>\n",
       "      <th>Severity</th>\n",
       "      <th>Start_Time</th>\n",
       "      <th>End_Time</th>\n",
       "      <th>Start_Lat</th>\n",
       "      <th>Start_Lng</th>\n",
       "      <th>End_Lat</th>\n",
       "      <th>End_Lng</th>\n",
       "      <th>Distance(mi)</th>\n",
       "      <th>Description</th>\n",
       "      <th>...</th>\n",
       "      <th>Roundabout</th>\n",
       "      <th>Station</th>\n",
       "      <th>Stop</th>\n",
       "      <th>Traffic_Calming</th>\n",
       "      <th>Traffic_Signal</th>\n",
       "      <th>Turning_Loop</th>\n",
       "      <th>Sunrise_Sunset</th>\n",
       "      <th>Civil_Twilight</th>\n",
       "      <th>Nautical_Twilight</th>\n",
       "      <th>Astronomical_Twilight</th>\n",
       "    </tr>\n",
       "  </thead>\n",
       "  <tbody>\n",
       "    <tr>\n",
       "      <th>0</th>\n",
       "      <td>A-2716600</td>\n",
       "      <td>3</td>\n",
       "      <td>8/2/2016 0:37</td>\n",
       "      <td>8/2/2016 6:37</td>\n",
       "      <td>40.10891</td>\n",
       "      <td>-83.09286</td>\n",
       "      <td>40.11206</td>\n",
       "      <td>-83.03187</td>\n",
       "      <td>3.230</td>\n",
       "      <td>Between Sawmill Rd/Exit 20 and OH-315/Olentang...</td>\n",
       "      <td>...</td>\n",
       "      <td>False</td>\n",
       "      <td>False</td>\n",
       "      <td>False</td>\n",
       "      <td>False</td>\n",
       "      <td>False</td>\n",
       "      <td>False</td>\n",
       "      <td>Night</td>\n",
       "      <td>Night</td>\n",
       "      <td>Night</td>\n",
       "      <td>Night</td>\n",
       "    </tr>\n",
       "    <tr>\n",
       "      <th>1</th>\n",
       "      <td>A-2716601</td>\n",
       "      <td>2</td>\n",
       "      <td>8/2/2016 5:56</td>\n",
       "      <td>8/2/2016 11:56</td>\n",
       "      <td>39.86542</td>\n",
       "      <td>-84.06280</td>\n",
       "      <td>39.86501</td>\n",
       "      <td>-84.04873</td>\n",
       "      <td>0.747</td>\n",
       "      <td>At OH-4/OH-235/Exit 41 - Accident.</td>\n",
       "      <td>...</td>\n",
       "      <td>False</td>\n",
       "      <td>False</td>\n",
       "      <td>False</td>\n",
       "      <td>False</td>\n",
       "      <td>False</td>\n",
       "      <td>False</td>\n",
       "      <td>Night</td>\n",
       "      <td>Night</td>\n",
       "      <td>Night</td>\n",
       "      <td>Night</td>\n",
       "    </tr>\n",
       "    <tr>\n",
       "      <th>2</th>\n",
       "      <td>A-2716602</td>\n",
       "      <td>2</td>\n",
       "      <td>8/2/2016 6:15</td>\n",
       "      <td>8/2/2016 12:15</td>\n",
       "      <td>39.10266</td>\n",
       "      <td>-84.52468</td>\n",
       "      <td>39.10209</td>\n",
       "      <td>-84.52396</td>\n",
       "      <td>0.055</td>\n",
       "      <td>At I-71/US-50/Exit 1 - Accident.</td>\n",
       "      <td>...</td>\n",
       "      <td>False</td>\n",
       "      <td>False</td>\n",
       "      <td>False</td>\n",
       "      <td>False</td>\n",
       "      <td>False</td>\n",
       "      <td>False</td>\n",
       "      <td>Night</td>\n",
       "      <td>Night</td>\n",
       "      <td>Night</td>\n",
       "      <td>Day</td>\n",
       "    </tr>\n",
       "    <tr>\n",
       "      <th>3</th>\n",
       "      <td>A-2716603</td>\n",
       "      <td>2</td>\n",
       "      <td>8/2/2016 6:15</td>\n",
       "      <td>8/2/2016 12:15</td>\n",
       "      <td>39.10148</td>\n",
       "      <td>-84.52341</td>\n",
       "      <td>39.09841</td>\n",
       "      <td>-84.52241</td>\n",
       "      <td>0.219</td>\n",
       "      <td>At I-71/US-50/Exit 1 - Accident.</td>\n",
       "      <td>...</td>\n",
       "      <td>False</td>\n",
       "      <td>False</td>\n",
       "      <td>False</td>\n",
       "      <td>False</td>\n",
       "      <td>False</td>\n",
       "      <td>False</td>\n",
       "      <td>Night</td>\n",
       "      <td>Night</td>\n",
       "      <td>Night</td>\n",
       "      <td>Day</td>\n",
       "    </tr>\n",
       "    <tr>\n",
       "      <th>4</th>\n",
       "      <td>A-2716604</td>\n",
       "      <td>2</td>\n",
       "      <td>8/2/2016 6:51</td>\n",
       "      <td>8/2/2016 12:51</td>\n",
       "      <td>41.06213</td>\n",
       "      <td>-81.53784</td>\n",
       "      <td>41.06217</td>\n",
       "      <td>-81.53547</td>\n",
       "      <td>0.123</td>\n",
       "      <td>At Dart Ave/Exit 21 - Accident.</td>\n",
       "      <td>...</td>\n",
       "      <td>False</td>\n",
       "      <td>False</td>\n",
       "      <td>False</td>\n",
       "      <td>False</td>\n",
       "      <td>False</td>\n",
       "      <td>False</td>\n",
       "      <td>Night</td>\n",
       "      <td>Night</td>\n",
       "      <td>Day</td>\n",
       "      <td>Day</td>\n",
       "    </tr>\n",
       "  </tbody>\n",
       "</table>\n",
       "<p>5 rows × 47 columns</p>\n",
       "</div>"
      ],
      "text/plain": [
       "          ID  Severity     Start_Time        End_Time  Start_Lat  Start_Lng  \\\n",
       "0  A-2716600         3  8/2/2016 0:37   8/2/2016 6:37   40.10891  -83.09286   \n",
       "1  A-2716601         2  8/2/2016 5:56  8/2/2016 11:56   39.86542  -84.06280   \n",
       "2  A-2716602         2  8/2/2016 6:15  8/2/2016 12:15   39.10266  -84.52468   \n",
       "3  A-2716603         2  8/2/2016 6:15  8/2/2016 12:15   39.10148  -84.52341   \n",
       "4  A-2716604         2  8/2/2016 6:51  8/2/2016 12:51   41.06213  -81.53784   \n",
       "\n",
       "    End_Lat   End_Lng  Distance(mi)  \\\n",
       "0  40.11206 -83.03187         3.230   \n",
       "1  39.86501 -84.04873         0.747   \n",
       "2  39.10209 -84.52396         0.055   \n",
       "3  39.09841 -84.52241         0.219   \n",
       "4  41.06217 -81.53547         0.123   \n",
       "\n",
       "                                         Description  ...  Roundabout Station  \\\n",
       "0  Between Sawmill Rd/Exit 20 and OH-315/Olentang...  ...       False   False   \n",
       "1                 At OH-4/OH-235/Exit 41 - Accident.  ...       False   False   \n",
       "2                   At I-71/US-50/Exit 1 - Accident.  ...       False   False   \n",
       "3                   At I-71/US-50/Exit 1 - Accident.  ...       False   False   \n",
       "4                    At Dart Ave/Exit 21 - Accident.  ...       False   False   \n",
       "\n",
       "    Stop Traffic_Calming Traffic_Signal Turning_Loop Sunrise_Sunset  \\\n",
       "0  False           False          False        False          Night   \n",
       "1  False           False          False        False          Night   \n",
       "2  False           False          False        False          Night   \n",
       "3  False           False          False        False          Night   \n",
       "4  False           False          False        False          Night   \n",
       "\n",
       "  Civil_Twilight Nautical_Twilight Astronomical_Twilight  \n",
       "0          Night             Night                 Night  \n",
       "1          Night             Night                 Night  \n",
       "2          Night             Night                   Day  \n",
       "3          Night             Night                   Day  \n",
       "4          Night               Day                   Day  \n",
       "\n",
       "[5 rows x 47 columns]"
      ]
     },
     "execution_count": 173,
     "metadata": {},
     "output_type": "execute_result"
    }
   ],
   "source": [
    "us.head()"
   ]
  },
  {
   "cell_type": "code",
   "execution_count": 174,
   "id": "11ac5153-8184-40c3-8030-146fa94dd56a",
   "metadata": {},
   "outputs": [
    {
     "data": {
      "text/html": [
       "<div>\n",
       "<style scoped>\n",
       "    .dataframe tbody tr th:only-of-type {\n",
       "        vertical-align: middle;\n",
       "    }\n",
       "\n",
       "    .dataframe tbody tr th {\n",
       "        vertical-align: top;\n",
       "    }\n",
       "\n",
       "    .dataframe thead th {\n",
       "        text-align: right;\n",
       "    }\n",
       "</style>\n",
       "<table border=\"1\" class=\"dataframe\">\n",
       "  <thead>\n",
       "    <tr style=\"text-align: right;\">\n",
       "      <th></th>\n",
       "      <th>ID</th>\n",
       "      <th>Severity</th>\n",
       "      <th>Start_Time</th>\n",
       "      <th>End_Time</th>\n",
       "      <th>Start_Lat</th>\n",
       "      <th>Start_Lng</th>\n",
       "      <th>End_Lat</th>\n",
       "      <th>End_Lng</th>\n",
       "      <th>Distance(mi)</th>\n",
       "      <th>Description</th>\n",
       "      <th>...</th>\n",
       "      <th>Roundabout</th>\n",
       "      <th>Station</th>\n",
       "      <th>Stop</th>\n",
       "      <th>Traffic_Calming</th>\n",
       "      <th>Traffic_Signal</th>\n",
       "      <th>Turning_Loop</th>\n",
       "      <th>Sunrise_Sunset</th>\n",
       "      <th>Civil_Twilight</th>\n",
       "      <th>Nautical_Twilight</th>\n",
       "      <th>Astronomical_Twilight</th>\n",
       "    </tr>\n",
       "  </thead>\n",
       "  <tbody>\n",
       "    <tr>\n",
       "      <th>1048570</th>\n",
       "      <td>A-3771908</td>\n",
       "      <td>2</td>\n",
       "      <td>10/12/2019 17:05</td>\n",
       "      <td>10/12/2019 17:58</td>\n",
       "      <td>33.195825</td>\n",
       "      <td>-117.367005</td>\n",
       "      <td>33.195825</td>\n",
       "      <td>-117.367005</td>\n",
       "      <td>0.0</td>\n",
       "      <td>At Oceanside Blvd/Exit 52 - Accident.</td>\n",
       "      <td>...</td>\n",
       "      <td>False</td>\n",
       "      <td>False</td>\n",
       "      <td>False</td>\n",
       "      <td>False</td>\n",
       "      <td>False</td>\n",
       "      <td>False</td>\n",
       "      <td>Night</td>\n",
       "      <td>Day</td>\n",
       "      <td>Day</td>\n",
       "      <td>Day</td>\n",
       "    </tr>\n",
       "    <tr>\n",
       "      <th>1048571</th>\n",
       "      <td>A-3771909</td>\n",
       "      <td>2</td>\n",
       "      <td>10/12/2019 17:02</td>\n",
       "      <td>10/12/2019 18:33</td>\n",
       "      <td>33.901813</td>\n",
       "      <td>-117.466712</td>\n",
       "      <td>33.901813</td>\n",
       "      <td>-117.466712</td>\n",
       "      <td>0.0</td>\n",
       "      <td>At La Sierra Ave - Accident.</td>\n",
       "      <td>...</td>\n",
       "      <td>False</td>\n",
       "      <td>False</td>\n",
       "      <td>False</td>\n",
       "      <td>False</td>\n",
       "      <td>False</td>\n",
       "      <td>False</td>\n",
       "      <td>Night</td>\n",
       "      <td>Day</td>\n",
       "      <td>Day</td>\n",
       "      <td>Day</td>\n",
       "    </tr>\n",
       "    <tr>\n",
       "      <th>1048572</th>\n",
       "      <td>A-3771910</td>\n",
       "      <td>2</td>\n",
       "      <td>10/12/2019 17:11</td>\n",
       "      <td>10/12/2019 18:24</td>\n",
       "      <td>33.651594</td>\n",
       "      <td>-117.761153</td>\n",
       "      <td>33.651594</td>\n",
       "      <td>-117.761153</td>\n",
       "      <td>0.0</td>\n",
       "      <td>At CA-133/Laguna Fwy/Exit 2 - Accident.</td>\n",
       "      <td>...</td>\n",
       "      <td>False</td>\n",
       "      <td>False</td>\n",
       "      <td>False</td>\n",
       "      <td>False</td>\n",
       "      <td>False</td>\n",
       "      <td>False</td>\n",
       "      <td>Night</td>\n",
       "      <td>Night</td>\n",
       "      <td>Day</td>\n",
       "      <td>Day</td>\n",
       "    </tr>\n",
       "    <tr>\n",
       "      <th>1048573</th>\n",
       "      <td>A-3771911</td>\n",
       "      <td>2</td>\n",
       "      <td>10/12/2019 17:04</td>\n",
       "      <td>10/12/2019 20:19</td>\n",
       "      <td>35.419703</td>\n",
       "      <td>-119.012848</td>\n",
       "      <td>35.419703</td>\n",
       "      <td>-119.012848</td>\n",
       "      <td>0.0</td>\n",
       "      <td>At E Roberts Ln - Accident.</td>\n",
       "      <td>...</td>\n",
       "      <td>False</td>\n",
       "      <td>False</td>\n",
       "      <td>False</td>\n",
       "      <td>False</td>\n",
       "      <td>True</td>\n",
       "      <td>False</td>\n",
       "      <td>Night</td>\n",
       "      <td>Day</td>\n",
       "      <td>Day</td>\n",
       "      <td>Day</td>\n",
       "    </tr>\n",
       "    <tr>\n",
       "      <th>1048574</th>\n",
       "      <td>A-3771912</td>\n",
       "      <td>2</td>\n",
       "      <td>10/12/2019 17:02</td>\n",
       "      <td>10/12/2019 18:04</td>\n",
       "      <td>33.806080</td>\n",
       "      <td>-117.880100</td>\n",
       "      <td>33.806080</td>\n",
       "      <td>-117.880100</td>\n",
       "      <td>0.0</td>\n",
       "      <td>At CA-57/Orange Fwy - Accident.</td>\n",
       "      <td>...</td>\n",
       "      <td>False</td>\n",
       "      <td>False</td>\n",
       "      <td>False</td>\n",
       "      <td>False</td>\n",
       "      <td>False</td>\n",
       "      <td>False</td>\n",
       "      <td>Night</td>\n",
       "      <td>Day</td>\n",
       "      <td>Day</td>\n",
       "      <td>Day</td>\n",
       "    </tr>\n",
       "  </tbody>\n",
       "</table>\n",
       "<p>5 rows × 47 columns</p>\n",
       "</div>"
      ],
      "text/plain": [
       "                ID  Severity        Start_Time          End_Time  Start_Lat  \\\n",
       "1048570  A-3771908         2  10/12/2019 17:05  10/12/2019 17:58  33.195825   \n",
       "1048571  A-3771909         2  10/12/2019 17:02  10/12/2019 18:33  33.901813   \n",
       "1048572  A-3771910         2  10/12/2019 17:11  10/12/2019 18:24  33.651594   \n",
       "1048573  A-3771911         2  10/12/2019 17:04  10/12/2019 20:19  35.419703   \n",
       "1048574  A-3771912         2  10/12/2019 17:02  10/12/2019 18:04  33.806080   \n",
       "\n",
       "          Start_Lng    End_Lat     End_Lng  Distance(mi)  \\\n",
       "1048570 -117.367005  33.195825 -117.367005           0.0   \n",
       "1048571 -117.466712  33.901813 -117.466712           0.0   \n",
       "1048572 -117.761153  33.651594 -117.761153           0.0   \n",
       "1048573 -119.012848  35.419703 -119.012848           0.0   \n",
       "1048574 -117.880100  33.806080 -117.880100           0.0   \n",
       "\n",
       "                                     Description  ...  Roundabout Station  \\\n",
       "1048570    At Oceanside Blvd/Exit 52 - Accident.  ...       False   False   \n",
       "1048571             At La Sierra Ave - Accident.  ...       False   False   \n",
       "1048572  At CA-133/Laguna Fwy/Exit 2 - Accident.  ...       False   False   \n",
       "1048573              At E Roberts Ln - Accident.  ...       False   False   \n",
       "1048574          At CA-57/Orange Fwy - Accident.  ...       False   False   \n",
       "\n",
       "          Stop Traffic_Calming Traffic_Signal Turning_Loop Sunrise_Sunset  \\\n",
       "1048570  False           False          False        False          Night   \n",
       "1048571  False           False          False        False          Night   \n",
       "1048572  False           False          False        False          Night   \n",
       "1048573  False           False           True        False          Night   \n",
       "1048574  False           False          False        False          Night   \n",
       "\n",
       "        Civil_Twilight Nautical_Twilight Astronomical_Twilight  \n",
       "1048570            Day               Day                   Day  \n",
       "1048571            Day               Day                   Day  \n",
       "1048572          Night               Day                   Day  \n",
       "1048573            Day               Day                   Day  \n",
       "1048574            Day               Day                   Day  \n",
       "\n",
       "[5 rows x 47 columns]"
      ]
     },
     "execution_count": 174,
     "metadata": {},
     "output_type": "execute_result"
    }
   ],
   "source": [
    "us.tail()"
   ]
  },
  {
   "cell_type": "code",
   "execution_count": 175,
   "id": "46bd310c-df5e-48a4-a36f-ca6b98cfbfd0",
   "metadata": {},
   "outputs": [
    {
     "data": {
      "text/plain": [
       "(1048575, 47)"
      ]
     },
     "execution_count": 175,
     "metadata": {},
     "output_type": "execute_result"
    }
   ],
   "source": [
    "us.shape"
   ]
  },
  {
   "cell_type": "code",
   "execution_count": 176,
   "id": "fff40a1d-69da-4d23-8304-dd97f80b0d9e",
   "metadata": {},
   "outputs": [
    {
     "data": {
      "text/plain": [
       "Index(['ID', 'Severity', 'Start_Time', 'End_Time', 'Start_Lat', 'Start_Lng',\n",
       "       'End_Lat', 'End_Lng', 'Distance(mi)', 'Description', 'Number', 'Street',\n",
       "       'Side', 'City', 'County', 'State', 'Zipcode', 'Country', 'Timezone',\n",
       "       'Airport_Code', 'Weather_Timestamp', 'Temperature(F)', 'Wind_Chill(F)',\n",
       "       'Humidity(%)', 'Pressure(in)', 'Visibility(mi)', 'Wind_Direction',\n",
       "       'Wind_Speed(mph)', 'Precipitation(in)', 'Weather_Condition', 'Amenity',\n",
       "       'Bump', 'Crossing', 'Give_Way', 'Junction', 'No_Exit', 'Railway',\n",
       "       'Roundabout', 'Station', 'Stop', 'Traffic_Calming', 'Traffic_Signal',\n",
       "       'Turning_Loop', 'Sunrise_Sunset', 'Civil_Twilight', 'Nautical_Twilight',\n",
       "       'Astronomical_Twilight'],\n",
       "      dtype='object')"
      ]
     },
     "execution_count": 176,
     "metadata": {},
     "output_type": "execute_result"
    }
   ],
   "source": [
    "us.columns"
   ]
  },
  {
   "cell_type": "code",
   "execution_count": 177,
   "id": "2637eaa6-ade1-451a-baa7-99d70a83d54b",
   "metadata": {},
   "outputs": [
    {
     "name": "stdout",
     "output_type": "stream",
     "text": [
      "<class 'pandas.core.frame.DataFrame'>\n",
      "RangeIndex: 1048575 entries, 0 to 1048574\n",
      "Data columns (total 47 columns):\n",
      " #   Column                 Non-Null Count    Dtype  \n",
      "---  ------                 --------------    -----  \n",
      " 0   ID                     1048575 non-null  object \n",
      " 1   Severity               1048575 non-null  int64  \n",
      " 2   Start_Time             1048575 non-null  object \n",
      " 3   End_Time               1048575 non-null  object \n",
      " 4   Start_Lat              1048575 non-null  float64\n",
      " 5   Start_Lng              1048575 non-null  float64\n",
      " 6   End_Lat                1048575 non-null  float64\n",
      " 7   End_Lng                1048575 non-null  float64\n",
      " 8   Distance(mi)           1048575 non-null  float64\n",
      " 9   Description            1048575 non-null  object \n",
      " 10  Number                 360065 non-null   float64\n",
      " 11  Street                 1048575 non-null  object \n",
      " 12  Side                   1048575 non-null  object \n",
      " 13  City                   1048506 non-null  object \n",
      " 14  County                 1048575 non-null  object \n",
      " 15  State                  1048575 non-null  object \n",
      " 16  Zipcode                1048086 non-null  object \n",
      " 17  Country                1048575 non-null  object \n",
      " 18  Timezone               1047421 non-null  object \n",
      " 19  Airport_Code           1045917 non-null  object \n",
      " 20  Weather_Timestamp      1026460 non-null  object \n",
      " 21  Temperature(F)         1017832 non-null  float64\n",
      " 22  Wind_Chill(F)          813974 non-null   float64\n",
      " 23  Humidity(%)            1015803 non-null  float64\n",
      " 24  Pressure(in)           1023115 non-null  float64\n",
      " 25  Visibility(mi)         1017760 non-null  float64\n",
      " 26  Wind_Direction         1017532 non-null  object \n",
      " 27  Wind_Speed(mph)        980665 non-null   float64\n",
      " 28  Precipitation(in)      789334 non-null   float64\n",
      " 29  Weather_Condition      1018315 non-null  object \n",
      " 30  Amenity                1048575 non-null  bool   \n",
      " 31  Bump                   1048575 non-null  bool   \n",
      " 32  Crossing               1048575 non-null  bool   \n",
      " 33  Give_Way               1048575 non-null  bool   \n",
      " 34  Junction               1048575 non-null  bool   \n",
      " 35  No_Exit                1048575 non-null  bool   \n",
      " 36  Railway                1048575 non-null  bool   \n",
      " 37  Roundabout             1048575 non-null  bool   \n",
      " 38  Station                1048575 non-null  bool   \n",
      " 39  Stop                   1048575 non-null  bool   \n",
      " 40  Traffic_Calming        1048575 non-null  bool   \n",
      " 41  Traffic_Signal         1048575 non-null  bool   \n",
      " 42  Turning_Loop           1048575 non-null  bool   \n",
      " 43  Sunrise_Sunset         1048506 non-null  object \n",
      " 44  Civil_Twilight         1048506 non-null  object \n",
      " 45  Nautical_Twilight      1048506 non-null  object \n",
      " 46  Astronomical_Twilight  1048506 non-null  object \n",
      "dtypes: bool(13), float64(13), int64(1), object(20)\n",
      "memory usage: 285.0+ MB\n"
     ]
    }
   ],
   "source": [
    "us.info()"
   ]
  },
  {
   "cell_type": "code",
   "execution_count": 178,
   "id": "6f8ff1c5-39cd-4861-bd2e-29110c0c2302",
   "metadata": {},
   "outputs": [
    {
     "data": {
      "text/html": [
       "<div>\n",
       "<style scoped>\n",
       "    .dataframe tbody tr th:only-of-type {\n",
       "        vertical-align: middle;\n",
       "    }\n",
       "\n",
       "    .dataframe tbody tr th {\n",
       "        vertical-align: top;\n",
       "    }\n",
       "\n",
       "    .dataframe thead th {\n",
       "        text-align: right;\n",
       "    }\n",
       "</style>\n",
       "<table border=\"1\" class=\"dataframe\">\n",
       "  <thead>\n",
       "    <tr style=\"text-align: right;\">\n",
       "      <th></th>\n",
       "      <th>Severity</th>\n",
       "      <th>Start_Lat</th>\n",
       "      <th>Start_Lng</th>\n",
       "      <th>End_Lat</th>\n",
       "      <th>End_Lng</th>\n",
       "      <th>Distance(mi)</th>\n",
       "      <th>Number</th>\n",
       "      <th>Temperature(F)</th>\n",
       "      <th>Wind_Chill(F)</th>\n",
       "      <th>Humidity(%)</th>\n",
       "      <th>Pressure(in)</th>\n",
       "      <th>Visibility(mi)</th>\n",
       "      <th>Wind_Speed(mph)</th>\n",
       "      <th>Precipitation(in)</th>\n",
       "    </tr>\n",
       "  </thead>\n",
       "  <tbody>\n",
       "    <tr>\n",
       "      <th>count</th>\n",
       "      <td>1.048575e+06</td>\n",
       "      <td>1.048575e+06</td>\n",
       "      <td>1.048575e+06</td>\n",
       "      <td>1.048575e+06</td>\n",
       "      <td>1.048575e+06</td>\n",
       "      <td>1.048575e+06</td>\n",
       "      <td>360065.000000</td>\n",
       "      <td>1.017832e+06</td>\n",
       "      <td>813974.000000</td>\n",
       "      <td>1.015803e+06</td>\n",
       "      <td>1.023115e+06</td>\n",
       "      <td>1.017760e+06</td>\n",
       "      <td>980665.000000</td>\n",
       "      <td>789334.000000</td>\n",
       "    </tr>\n",
       "    <tr>\n",
       "      <th>mean</th>\n",
       "      <td>2.164623e+00</td>\n",
       "      <td>3.646292e+01</td>\n",
       "      <td>-9.720202e+01</td>\n",
       "      <td>3.646305e+01</td>\n",
       "      <td>-9.720181e+01</td>\n",
       "      <td>5.867531e-01</td>\n",
       "      <td>7869.769653</td>\n",
       "      <td>5.915797e+01</td>\n",
       "      <td>55.283185</td>\n",
       "      <td>6.553987e+01</td>\n",
       "      <td>2.951557e+01</td>\n",
       "      <td>9.098803e+00</td>\n",
       "      <td>7.464395</td>\n",
       "      <td>0.007445</td>\n",
       "    </tr>\n",
       "    <tr>\n",
       "      <th>std</th>\n",
       "      <td>5.460908e-01</td>\n",
       "      <td>5.165882e+00</td>\n",
       "      <td>1.831984e+01</td>\n",
       "      <td>5.165957e+00</td>\n",
       "      <td>1.831963e+01</td>\n",
       "      <td>1.601684e+00</td>\n",
       "      <td>15619.751306</td>\n",
       "      <td>1.778244e+01</td>\n",
       "      <td>20.048839</td>\n",
       "      <td>2.298438e+01</td>\n",
       "      <td>9.907375e-01</td>\n",
       "      <td>2.718757e+00</td>\n",
       "      <td>5.810570</td>\n",
       "      <td>0.114932</td>\n",
       "    </tr>\n",
       "    <tr>\n",
       "      <th>min</th>\n",
       "      <td>1.000000e+00</td>\n",
       "      <td>2.457058e+01</td>\n",
       "      <td>-1.244975e+02</td>\n",
       "      <td>2.457433e+01</td>\n",
       "      <td>-1.244975e+02</td>\n",
       "      <td>0.000000e+00</td>\n",
       "      <td>1.000000</td>\n",
       "      <td>-8.900000e+01</td>\n",
       "      <td>-89.000000</td>\n",
       "      <td>2.000000e+00</td>\n",
       "      <td>2.000000e-02</td>\n",
       "      <td>0.000000e+00</td>\n",
       "      <td>0.000000</td>\n",
       "      <td>0.000000</td>\n",
       "    </tr>\n",
       "    <tr>\n",
       "      <th>25%</th>\n",
       "      <td>2.000000e+00</td>\n",
       "      <td>3.371034e+01</td>\n",
       "      <td>-1.180358e+02</td>\n",
       "      <td>3.371188e+01</td>\n",
       "      <td>-1.180361e+02</td>\n",
       "      <td>0.000000e+00</td>\n",
       "      <td>1175.000000</td>\n",
       "      <td>4.700000e+01</td>\n",
       "      <td>42.000000</td>\n",
       "      <td>4.900000e+01</td>\n",
       "      <td>2.934000e+01</td>\n",
       "      <td>1.000000e+01</td>\n",
       "      <td>3.500000</td>\n",
       "      <td>0.000000</td>\n",
       "    </tr>\n",
       "    <tr>\n",
       "      <th>50%</th>\n",
       "      <td>2.000000e+00</td>\n",
       "      <td>3.635720e+01</td>\n",
       "      <td>-9.292586e+01</td>\n",
       "      <td>3.635665e+01</td>\n",
       "      <td>-9.292828e+01</td>\n",
       "      <td>1.380000e-01</td>\n",
       "      <td>3771.000000</td>\n",
       "      <td>6.000000e+01</td>\n",
       "      <td>57.000000</td>\n",
       "      <td>6.900000e+01</td>\n",
       "      <td>2.985000e+01</td>\n",
       "      <td>1.000000e+01</td>\n",
       "      <td>7.000000</td>\n",
       "      <td>0.000000</td>\n",
       "    </tr>\n",
       "    <tr>\n",
       "      <th>75%</th>\n",
       "      <td>2.000000e+00</td>\n",
       "      <td>4.023489e+01</td>\n",
       "      <td>-8.038426e+01</td>\n",
       "      <td>4.023471e+01</td>\n",
       "      <td>-8.038469e+01</td>\n",
       "      <td>5.910000e-01</td>\n",
       "      <td>9229.000000</td>\n",
       "      <td>7.300000e+01</td>\n",
       "      <td>70.000000</td>\n",
       "      <td>8.500000e+01</td>\n",
       "      <td>3.002000e+01</td>\n",
       "      <td>1.000000e+01</td>\n",
       "      <td>10.400000</td>\n",
       "      <td>0.000000</td>\n",
       "    </tr>\n",
       "    <tr>\n",
       "      <th>max</th>\n",
       "      <td>4.000000e+00</td>\n",
       "      <td>4.900058e+01</td>\n",
       "      <td>-6.711317e+01</td>\n",
       "      <td>4.907500e+01</td>\n",
       "      <td>-6.710924e+01</td>\n",
       "      <td>1.551860e+02</td>\n",
       "      <td>961005.000000</td>\n",
       "      <td>1.292000e+02</td>\n",
       "      <td>113.000000</td>\n",
       "      <td>1.000000e+02</td>\n",
       "      <td>5.804000e+01</td>\n",
       "      <td>1.200000e+02</td>\n",
       "      <td>984.000000</td>\n",
       "      <td>24.000000</td>\n",
       "    </tr>\n",
       "  </tbody>\n",
       "</table>\n",
       "</div>"
      ],
      "text/plain": [
       "           Severity     Start_Lat     Start_Lng       End_Lat       End_Lng  \\\n",
       "count  1.048575e+06  1.048575e+06  1.048575e+06  1.048575e+06  1.048575e+06   \n",
       "mean   2.164623e+00  3.646292e+01 -9.720202e+01  3.646305e+01 -9.720181e+01   \n",
       "std    5.460908e-01  5.165882e+00  1.831984e+01  5.165957e+00  1.831963e+01   \n",
       "min    1.000000e+00  2.457058e+01 -1.244975e+02  2.457433e+01 -1.244975e+02   \n",
       "25%    2.000000e+00  3.371034e+01 -1.180358e+02  3.371188e+01 -1.180361e+02   \n",
       "50%    2.000000e+00  3.635720e+01 -9.292586e+01  3.635665e+01 -9.292828e+01   \n",
       "75%    2.000000e+00  4.023489e+01 -8.038426e+01  4.023471e+01 -8.038469e+01   \n",
       "max    4.000000e+00  4.900058e+01 -6.711317e+01  4.907500e+01 -6.710924e+01   \n",
       "\n",
       "       Distance(mi)         Number  Temperature(F)  Wind_Chill(F)  \\\n",
       "count  1.048575e+06  360065.000000    1.017832e+06  813974.000000   \n",
       "mean   5.867531e-01    7869.769653    5.915797e+01      55.283185   \n",
       "std    1.601684e+00   15619.751306    1.778244e+01      20.048839   \n",
       "min    0.000000e+00       1.000000   -8.900000e+01     -89.000000   \n",
       "25%    0.000000e+00    1175.000000    4.700000e+01      42.000000   \n",
       "50%    1.380000e-01    3771.000000    6.000000e+01      57.000000   \n",
       "75%    5.910000e-01    9229.000000    7.300000e+01      70.000000   \n",
       "max    1.551860e+02  961005.000000    1.292000e+02     113.000000   \n",
       "\n",
       "        Humidity(%)  Pressure(in)  Visibility(mi)  Wind_Speed(mph)  \\\n",
       "count  1.015803e+06  1.023115e+06    1.017760e+06    980665.000000   \n",
       "mean   6.553987e+01  2.951557e+01    9.098803e+00         7.464395   \n",
       "std    2.298438e+01  9.907375e-01    2.718757e+00         5.810570   \n",
       "min    2.000000e+00  2.000000e-02    0.000000e+00         0.000000   \n",
       "25%    4.900000e+01  2.934000e+01    1.000000e+01         3.500000   \n",
       "50%    6.900000e+01  2.985000e+01    1.000000e+01         7.000000   \n",
       "75%    8.500000e+01  3.002000e+01    1.000000e+01        10.400000   \n",
       "max    1.000000e+02  5.804000e+01    1.200000e+02       984.000000   \n",
       "\n",
       "       Precipitation(in)  \n",
       "count      789334.000000  \n",
       "mean            0.007445  \n",
       "std             0.114932  \n",
       "min             0.000000  \n",
       "25%             0.000000  \n",
       "50%             0.000000  \n",
       "75%             0.000000  \n",
       "max            24.000000  "
      ]
     },
     "execution_count": 178,
     "metadata": {},
     "output_type": "execute_result"
    }
   ],
   "source": [
    "us.describe()"
   ]
  },
  {
   "cell_type": "code",
   "execution_count": 179,
   "id": "8fc382b8-61fc-42d1-9acf-0838b13eea0c",
   "metadata": {},
   "outputs": [
    {
     "data": {
      "text/plain": [
       "Number                   688510\n",
       "Precipitation(in)        259241\n",
       "Wind_Chill(F)            234601\n",
       "Wind_Speed(mph)           67910\n",
       "Humidity(%)               32772\n",
       "Wind_Direction            31043\n",
       "Visibility(mi)            30815\n",
       "Temperature(F)            30743\n",
       "Weather_Condition         30260\n",
       "Pressure(in)              25460\n",
       "Weather_Timestamp         22115\n",
       "Airport_Code               2658\n",
       "Timezone                   1154\n",
       "Zipcode                     489\n",
       "City                         69\n",
       "Astronomical_Twilight        69\n",
       "Nautical_Twilight            69\n",
       "Civil_Twilight               69\n",
       "Sunrise_Sunset               69\n",
       "End_Lng                       0\n",
       "Side                          0\n",
       "Street                        0\n",
       "Description                   0\n",
       "Start_Time                    0\n",
       "Severity                      0\n",
       "Start_Lat                     0\n",
       "End_Time                      0\n",
       "ID                            0\n",
       "Distance(mi)                  0\n",
       "Start_Lng                     0\n",
       "End_Lat                       0\n",
       "County                        0\n",
       "Amenity                       0\n",
       "Country                       0\n",
       "State                         0\n",
       "Bump                          0\n",
       "Crossing                      0\n",
       "Give_Way                      0\n",
       "Junction                      0\n",
       "Station                       0\n",
       "Roundabout                    0\n",
       "Railway                       0\n",
       "No_Exit                       0\n",
       "Turning_Loop                  0\n",
       "Traffic_Signal                0\n",
       "Traffic_Calming               0\n",
       "Stop                          0\n",
       "dtype: int64"
      ]
     },
     "execution_count": 179,
     "metadata": {},
     "output_type": "execute_result"
    }
   ],
   "source": [
    "us.isna().sum().sort_values(ascending=False)"
   ]
  },
  {
   "cell_type": "markdown",
   "id": "60eb2c1f-2be2-4204-a9c9-629680f8428c",
   "metadata": {},
   "source": [
    "# Dropping the columns with large number of missing values."
   ]
  },
  {
   "cell_type": "code",
   "execution_count": 180,
   "id": "195077e1-63d4-4ea8-9572-158301047d9f",
   "metadata": {},
   "outputs": [],
   "source": [
    "data=us.drop(['Number','Precipitation(in)','Wind_Chill(F)'],axis=1)"
   ]
  },
  {
   "cell_type": "code",
   "execution_count": 181,
   "id": "646f5058-0e7c-44d9-89c6-45a7dcbf216c",
   "metadata": {},
   "outputs": [
    {
     "data": {
      "text/html": [
       "<div>\n",
       "<style scoped>\n",
       "    .dataframe tbody tr th:only-of-type {\n",
       "        vertical-align: middle;\n",
       "    }\n",
       "\n",
       "    .dataframe tbody tr th {\n",
       "        vertical-align: top;\n",
       "    }\n",
       "\n",
       "    .dataframe thead th {\n",
       "        text-align: right;\n",
       "    }\n",
       "</style>\n",
       "<table border=\"1\" class=\"dataframe\">\n",
       "  <thead>\n",
       "    <tr style=\"text-align: right;\">\n",
       "      <th></th>\n",
       "      <th>ID</th>\n",
       "      <th>Severity</th>\n",
       "      <th>Start_Time</th>\n",
       "      <th>End_Time</th>\n",
       "      <th>Start_Lat</th>\n",
       "      <th>Start_Lng</th>\n",
       "      <th>End_Lat</th>\n",
       "      <th>End_Lng</th>\n",
       "      <th>Distance(mi)</th>\n",
       "      <th>Description</th>\n",
       "      <th>...</th>\n",
       "      <th>Roundabout</th>\n",
       "      <th>Station</th>\n",
       "      <th>Stop</th>\n",
       "      <th>Traffic_Calming</th>\n",
       "      <th>Traffic_Signal</th>\n",
       "      <th>Turning_Loop</th>\n",
       "      <th>Sunrise_Sunset</th>\n",
       "      <th>Civil_Twilight</th>\n",
       "      <th>Nautical_Twilight</th>\n",
       "      <th>Astronomical_Twilight</th>\n",
       "    </tr>\n",
       "  </thead>\n",
       "  <tbody>\n",
       "    <tr>\n",
       "      <th>0</th>\n",
       "      <td>A-2716600</td>\n",
       "      <td>3</td>\n",
       "      <td>8/2/2016 0:37</td>\n",
       "      <td>8/2/2016 6:37</td>\n",
       "      <td>40.108910</td>\n",
       "      <td>-83.092860</td>\n",
       "      <td>40.112060</td>\n",
       "      <td>-83.031870</td>\n",
       "      <td>3.230</td>\n",
       "      <td>Between Sawmill Rd/Exit 20 and OH-315/Olentang...</td>\n",
       "      <td>...</td>\n",
       "      <td>False</td>\n",
       "      <td>False</td>\n",
       "      <td>False</td>\n",
       "      <td>False</td>\n",
       "      <td>False</td>\n",
       "      <td>False</td>\n",
       "      <td>Night</td>\n",
       "      <td>Night</td>\n",
       "      <td>Night</td>\n",
       "      <td>Night</td>\n",
       "    </tr>\n",
       "    <tr>\n",
       "      <th>1</th>\n",
       "      <td>A-2716601</td>\n",
       "      <td>2</td>\n",
       "      <td>8/2/2016 5:56</td>\n",
       "      <td>8/2/2016 11:56</td>\n",
       "      <td>39.865420</td>\n",
       "      <td>-84.062800</td>\n",
       "      <td>39.865010</td>\n",
       "      <td>-84.048730</td>\n",
       "      <td>0.747</td>\n",
       "      <td>At OH-4/OH-235/Exit 41 - Accident.</td>\n",
       "      <td>...</td>\n",
       "      <td>False</td>\n",
       "      <td>False</td>\n",
       "      <td>False</td>\n",
       "      <td>False</td>\n",
       "      <td>False</td>\n",
       "      <td>False</td>\n",
       "      <td>Night</td>\n",
       "      <td>Night</td>\n",
       "      <td>Night</td>\n",
       "      <td>Night</td>\n",
       "    </tr>\n",
       "    <tr>\n",
       "      <th>2</th>\n",
       "      <td>A-2716602</td>\n",
       "      <td>2</td>\n",
       "      <td>8/2/2016 6:15</td>\n",
       "      <td>8/2/2016 12:15</td>\n",
       "      <td>39.102660</td>\n",
       "      <td>-84.524680</td>\n",
       "      <td>39.102090</td>\n",
       "      <td>-84.523960</td>\n",
       "      <td>0.055</td>\n",
       "      <td>At I-71/US-50/Exit 1 - Accident.</td>\n",
       "      <td>...</td>\n",
       "      <td>False</td>\n",
       "      <td>False</td>\n",
       "      <td>False</td>\n",
       "      <td>False</td>\n",
       "      <td>False</td>\n",
       "      <td>False</td>\n",
       "      <td>Night</td>\n",
       "      <td>Night</td>\n",
       "      <td>Night</td>\n",
       "      <td>Day</td>\n",
       "    </tr>\n",
       "    <tr>\n",
       "      <th>3</th>\n",
       "      <td>A-2716603</td>\n",
       "      <td>2</td>\n",
       "      <td>8/2/2016 6:15</td>\n",
       "      <td>8/2/2016 12:15</td>\n",
       "      <td>39.101480</td>\n",
       "      <td>-84.523410</td>\n",
       "      <td>39.098410</td>\n",
       "      <td>-84.522410</td>\n",
       "      <td>0.219</td>\n",
       "      <td>At I-71/US-50/Exit 1 - Accident.</td>\n",
       "      <td>...</td>\n",
       "      <td>False</td>\n",
       "      <td>False</td>\n",
       "      <td>False</td>\n",
       "      <td>False</td>\n",
       "      <td>False</td>\n",
       "      <td>False</td>\n",
       "      <td>Night</td>\n",
       "      <td>Night</td>\n",
       "      <td>Night</td>\n",
       "      <td>Day</td>\n",
       "    </tr>\n",
       "    <tr>\n",
       "      <th>4</th>\n",
       "      <td>A-2716604</td>\n",
       "      <td>2</td>\n",
       "      <td>8/2/2016 6:51</td>\n",
       "      <td>8/2/2016 12:51</td>\n",
       "      <td>41.062130</td>\n",
       "      <td>-81.537840</td>\n",
       "      <td>41.062170</td>\n",
       "      <td>-81.535470</td>\n",
       "      <td>0.123</td>\n",
       "      <td>At Dart Ave/Exit 21 - Accident.</td>\n",
       "      <td>...</td>\n",
       "      <td>False</td>\n",
       "      <td>False</td>\n",
       "      <td>False</td>\n",
       "      <td>False</td>\n",
       "      <td>False</td>\n",
       "      <td>False</td>\n",
       "      <td>Night</td>\n",
       "      <td>Night</td>\n",
       "      <td>Day</td>\n",
       "      <td>Day</td>\n",
       "    </tr>\n",
       "    <tr>\n",
       "      <th>...</th>\n",
       "      <td>...</td>\n",
       "      <td>...</td>\n",
       "      <td>...</td>\n",
       "      <td>...</td>\n",
       "      <td>...</td>\n",
       "      <td>...</td>\n",
       "      <td>...</td>\n",
       "      <td>...</td>\n",
       "      <td>...</td>\n",
       "      <td>...</td>\n",
       "      <td>...</td>\n",
       "      <td>...</td>\n",
       "      <td>...</td>\n",
       "      <td>...</td>\n",
       "      <td>...</td>\n",
       "      <td>...</td>\n",
       "      <td>...</td>\n",
       "      <td>...</td>\n",
       "      <td>...</td>\n",
       "      <td>...</td>\n",
       "      <td>...</td>\n",
       "    </tr>\n",
       "    <tr>\n",
       "      <th>1048570</th>\n",
       "      <td>A-3771908</td>\n",
       "      <td>2</td>\n",
       "      <td>10/12/2019 17:05</td>\n",
       "      <td>10/12/2019 17:58</td>\n",
       "      <td>33.195825</td>\n",
       "      <td>-117.367005</td>\n",
       "      <td>33.195825</td>\n",
       "      <td>-117.367005</td>\n",
       "      <td>0.000</td>\n",
       "      <td>At Oceanside Blvd/Exit 52 - Accident.</td>\n",
       "      <td>...</td>\n",
       "      <td>False</td>\n",
       "      <td>False</td>\n",
       "      <td>False</td>\n",
       "      <td>False</td>\n",
       "      <td>False</td>\n",
       "      <td>False</td>\n",
       "      <td>Night</td>\n",
       "      <td>Day</td>\n",
       "      <td>Day</td>\n",
       "      <td>Day</td>\n",
       "    </tr>\n",
       "    <tr>\n",
       "      <th>1048571</th>\n",
       "      <td>A-3771909</td>\n",
       "      <td>2</td>\n",
       "      <td>10/12/2019 17:02</td>\n",
       "      <td>10/12/2019 18:33</td>\n",
       "      <td>33.901813</td>\n",
       "      <td>-117.466712</td>\n",
       "      <td>33.901813</td>\n",
       "      <td>-117.466712</td>\n",
       "      <td>0.000</td>\n",
       "      <td>At La Sierra Ave - Accident.</td>\n",
       "      <td>...</td>\n",
       "      <td>False</td>\n",
       "      <td>False</td>\n",
       "      <td>False</td>\n",
       "      <td>False</td>\n",
       "      <td>False</td>\n",
       "      <td>False</td>\n",
       "      <td>Night</td>\n",
       "      <td>Day</td>\n",
       "      <td>Day</td>\n",
       "      <td>Day</td>\n",
       "    </tr>\n",
       "    <tr>\n",
       "      <th>1048572</th>\n",
       "      <td>A-3771910</td>\n",
       "      <td>2</td>\n",
       "      <td>10/12/2019 17:11</td>\n",
       "      <td>10/12/2019 18:24</td>\n",
       "      <td>33.651594</td>\n",
       "      <td>-117.761153</td>\n",
       "      <td>33.651594</td>\n",
       "      <td>-117.761153</td>\n",
       "      <td>0.000</td>\n",
       "      <td>At CA-133/Laguna Fwy/Exit 2 - Accident.</td>\n",
       "      <td>...</td>\n",
       "      <td>False</td>\n",
       "      <td>False</td>\n",
       "      <td>False</td>\n",
       "      <td>False</td>\n",
       "      <td>False</td>\n",
       "      <td>False</td>\n",
       "      <td>Night</td>\n",
       "      <td>Night</td>\n",
       "      <td>Day</td>\n",
       "      <td>Day</td>\n",
       "    </tr>\n",
       "    <tr>\n",
       "      <th>1048573</th>\n",
       "      <td>A-3771911</td>\n",
       "      <td>2</td>\n",
       "      <td>10/12/2019 17:04</td>\n",
       "      <td>10/12/2019 20:19</td>\n",
       "      <td>35.419703</td>\n",
       "      <td>-119.012848</td>\n",
       "      <td>35.419703</td>\n",
       "      <td>-119.012848</td>\n",
       "      <td>0.000</td>\n",
       "      <td>At E Roberts Ln - Accident.</td>\n",
       "      <td>...</td>\n",
       "      <td>False</td>\n",
       "      <td>False</td>\n",
       "      <td>False</td>\n",
       "      <td>False</td>\n",
       "      <td>True</td>\n",
       "      <td>False</td>\n",
       "      <td>Night</td>\n",
       "      <td>Day</td>\n",
       "      <td>Day</td>\n",
       "      <td>Day</td>\n",
       "    </tr>\n",
       "    <tr>\n",
       "      <th>1048574</th>\n",
       "      <td>A-3771912</td>\n",
       "      <td>2</td>\n",
       "      <td>10/12/2019 17:02</td>\n",
       "      <td>10/12/2019 18:04</td>\n",
       "      <td>33.806080</td>\n",
       "      <td>-117.880100</td>\n",
       "      <td>33.806080</td>\n",
       "      <td>-117.880100</td>\n",
       "      <td>0.000</td>\n",
       "      <td>At CA-57/Orange Fwy - Accident.</td>\n",
       "      <td>...</td>\n",
       "      <td>False</td>\n",
       "      <td>False</td>\n",
       "      <td>False</td>\n",
       "      <td>False</td>\n",
       "      <td>False</td>\n",
       "      <td>False</td>\n",
       "      <td>Night</td>\n",
       "      <td>Day</td>\n",
       "      <td>Day</td>\n",
       "      <td>Day</td>\n",
       "    </tr>\n",
       "  </tbody>\n",
       "</table>\n",
       "<p>1048575 rows × 44 columns</p>\n",
       "</div>"
      ],
      "text/plain": [
       "                ID  Severity        Start_Time          End_Time  Start_Lat  \\\n",
       "0        A-2716600         3     8/2/2016 0:37     8/2/2016 6:37  40.108910   \n",
       "1        A-2716601         2     8/2/2016 5:56    8/2/2016 11:56  39.865420   \n",
       "2        A-2716602         2     8/2/2016 6:15    8/2/2016 12:15  39.102660   \n",
       "3        A-2716603         2     8/2/2016 6:15    8/2/2016 12:15  39.101480   \n",
       "4        A-2716604         2     8/2/2016 6:51    8/2/2016 12:51  41.062130   \n",
       "...            ...       ...               ...               ...        ...   \n",
       "1048570  A-3771908         2  10/12/2019 17:05  10/12/2019 17:58  33.195825   \n",
       "1048571  A-3771909         2  10/12/2019 17:02  10/12/2019 18:33  33.901813   \n",
       "1048572  A-3771910         2  10/12/2019 17:11  10/12/2019 18:24  33.651594   \n",
       "1048573  A-3771911         2  10/12/2019 17:04  10/12/2019 20:19  35.419703   \n",
       "1048574  A-3771912         2  10/12/2019 17:02  10/12/2019 18:04  33.806080   \n",
       "\n",
       "          Start_Lng    End_Lat     End_Lng  Distance(mi)  \\\n",
       "0        -83.092860  40.112060  -83.031870         3.230   \n",
       "1        -84.062800  39.865010  -84.048730         0.747   \n",
       "2        -84.524680  39.102090  -84.523960         0.055   \n",
       "3        -84.523410  39.098410  -84.522410         0.219   \n",
       "4        -81.537840  41.062170  -81.535470         0.123   \n",
       "...             ...        ...         ...           ...   \n",
       "1048570 -117.367005  33.195825 -117.367005         0.000   \n",
       "1048571 -117.466712  33.901813 -117.466712         0.000   \n",
       "1048572 -117.761153  33.651594 -117.761153         0.000   \n",
       "1048573 -119.012848  35.419703 -119.012848         0.000   \n",
       "1048574 -117.880100  33.806080 -117.880100         0.000   \n",
       "\n",
       "                                               Description  ... Roundabout  \\\n",
       "0        Between Sawmill Rd/Exit 20 and OH-315/Olentang...  ...      False   \n",
       "1                       At OH-4/OH-235/Exit 41 - Accident.  ...      False   \n",
       "2                         At I-71/US-50/Exit 1 - Accident.  ...      False   \n",
       "3                         At I-71/US-50/Exit 1 - Accident.  ...      False   \n",
       "4                          At Dart Ave/Exit 21 - Accident.  ...      False   \n",
       "...                                                    ...  ...        ...   \n",
       "1048570              At Oceanside Blvd/Exit 52 - Accident.  ...      False   \n",
       "1048571                       At La Sierra Ave - Accident.  ...      False   \n",
       "1048572            At CA-133/Laguna Fwy/Exit 2 - Accident.  ...      False   \n",
       "1048573                        At E Roberts Ln - Accident.  ...      False   \n",
       "1048574                    At CA-57/Orange Fwy - Accident.  ...      False   \n",
       "\n",
       "        Station   Stop Traffic_Calming Traffic_Signal Turning_Loop  \\\n",
       "0         False  False           False          False        False   \n",
       "1         False  False           False          False        False   \n",
       "2         False  False           False          False        False   \n",
       "3         False  False           False          False        False   \n",
       "4         False  False           False          False        False   \n",
       "...         ...    ...             ...            ...          ...   \n",
       "1048570   False  False           False          False        False   \n",
       "1048571   False  False           False          False        False   \n",
       "1048572   False  False           False          False        False   \n",
       "1048573   False  False           False           True        False   \n",
       "1048574   False  False           False          False        False   \n",
       "\n",
       "        Sunrise_Sunset Civil_Twilight Nautical_Twilight Astronomical_Twilight  \n",
       "0                Night          Night             Night                 Night  \n",
       "1                Night          Night             Night                 Night  \n",
       "2                Night          Night             Night                   Day  \n",
       "3                Night          Night             Night                   Day  \n",
       "4                Night          Night               Day                   Day  \n",
       "...                ...            ...               ...                   ...  \n",
       "1048570          Night            Day               Day                   Day  \n",
       "1048571          Night            Day               Day                   Day  \n",
       "1048572          Night          Night               Day                   Day  \n",
       "1048573          Night            Day               Day                   Day  \n",
       "1048574          Night            Day               Day                   Day  \n",
       "\n",
       "[1048575 rows x 44 columns]"
      ]
     },
     "execution_count": 181,
     "metadata": {},
     "output_type": "execute_result"
    }
   ],
   "source": [
    "data"
   ]
  },
  {
   "cell_type": "code",
   "execution_count": 182,
   "id": "1c72b01d-4bc8-4ee5-8264-e0b164461d61",
   "metadata": {},
   "outputs": [
    {
     "data": {
      "text/plain": [
       "(1048575, 44)"
      ]
     },
     "execution_count": 182,
     "metadata": {},
     "output_type": "execute_result"
    }
   ],
   "source": [
    "data.shape"
   ]
  },
  {
   "cell_type": "code",
   "execution_count": 183,
   "id": "ea11bc7f-9069-4d0d-8c39-959f1fae0629",
   "metadata": {},
   "outputs": [
    {
     "data": {
      "text/plain": [
       "Index(['ID', 'Severity', 'Start_Time', 'End_Time', 'Start_Lat', 'Start_Lng',\n",
       "       'End_Lat', 'End_Lng', 'Distance(mi)', 'Description', 'Street', 'Side',\n",
       "       'City', 'County', 'State', 'Zipcode', 'Country', 'Timezone',\n",
       "       'Airport_Code', 'Weather_Timestamp', 'Temperature(F)', 'Humidity(%)',\n",
       "       'Pressure(in)', 'Visibility(mi)', 'Wind_Direction', 'Wind_Speed(mph)',\n",
       "       'Weather_Condition', 'Amenity', 'Bump', 'Crossing', 'Give_Way',\n",
       "       'Junction', 'No_Exit', 'Railway', 'Roundabout', 'Station', 'Stop',\n",
       "       'Traffic_Calming', 'Traffic_Signal', 'Turning_Loop', 'Sunrise_Sunset',\n",
       "       'Civil_Twilight', 'Nautical_Twilight', 'Astronomical_Twilight'],\n",
       "      dtype='object')"
      ]
     },
     "execution_count": 183,
     "metadata": {},
     "output_type": "execute_result"
    }
   ],
   "source": [
    "data.columns"
   ]
  },
  {
   "cell_type": "code",
   "execution_count": 184,
   "id": "a157dd2f-a80b-432b-876d-e8247b507b2e",
   "metadata": {},
   "outputs": [
    {
     "data": {
      "text/plain": [
       "0          OH\n",
       "1          OH\n",
       "2          OH\n",
       "3          OH\n",
       "4          OH\n",
       "           ..\n",
       "1048570    CA\n",
       "1048571    CA\n",
       "1048572    CA\n",
       "1048573    CA\n",
       "1048574    CA\n",
       "Name: State, Length: 1048575, dtype: object"
      ]
     },
     "execution_count": 184,
     "metadata": {},
     "output_type": "execute_result"
    }
   ],
   "source": [
    "data.State"
   ]
  },
  {
   "cell_type": "code",
   "execution_count": 185,
   "id": "e34a549c-cc23-449c-9337-bb015f52b6d7",
   "metadata": {},
   "outputs": [
    {
     "data": {
      "text/plain": [
       "State\n",
       "CA    307801\n",
       "FL    124097\n",
       "TX     53779\n",
       "NY     44559\n",
       "NC     40815\n",
       "MN     40389\n",
       "VA     39548\n",
       "PA     38454\n",
       "OR     37743\n",
       "MD     25787\n",
       "Name: count, dtype: int64"
      ]
     },
     "execution_count": 185,
     "metadata": {},
     "output_type": "execute_result"
    }
   ],
   "source": [
    "states_by_accident = data.State.value_counts()\n",
    "states_by_accident[:10]"
   ]
  },
  {
   "cell_type": "code",
   "execution_count": 189,
   "id": "18f48b5d-0f03-49d7-9750-7af36789f2b3",
   "metadata": {},
   "outputs": [
    {
     "data": {
      "text/plain": [
       "Text(0.5, 1.0, 'Top 10 states by the number of accidents')"
      ]
     },
     "execution_count": 189,
     "metadata": {},
     "output_type": "execute_result"
    },
    {
     "data": {
      "image/png": "[encoded data removed]",
      "text/plain": [
       "<Figure size 640x480 with 1 Axes>"
      ]
     },
     "metadata": {},
     "output_type": "display_data"
    }
   ],
   "source": [
    "#Top 10 states by the number of accidents.\n",
    "states_by_accident[:10].plot(kind = 'barh')\n",
    "plt.title(\"Top 10 states by the number of accidents\")"
   ]
  },
  {
   "cell_type": "markdown",
   "id": "051325f4-6f9a-4b48-9444-1ea47f159c50",
   "metadata": {},
   "source": [
    "The top ten states are California, Florida, Texas, New York, North Carolina, Minnesota, Virginia, Pennsylvania, Oregon, Maryland."
   ]
  },
  {
   "cell_type": "code",
   "execution_count": 190,
   "id": "96575661-932c-4dbf-be4e-765ba080386d",
   "metadata": {},
   "outputs": [
    {
     "data": {
      "text/plain": [
       "Text(0.5, 1.0, 'Bottom 10 states by number of accidents')"
      ]
     },
     "execution_count": 190,
     "metadata": {},
     "output_type": "execute_result"
    },
    {
     "data": {
      "image/png": "[encoded data removed]",
      "text/plain": [
       "<Figure size 640x480 with 1 Axes>"
      ]
     },
     "metadata": {},
     "output_type": "display_data"
    }
   ],
   "source": [
    "#Bottom 10 states by number of accidents.\n",
    "states_by_accident[-10:].plot(kind = 'barh')\n",
    "plt.title(\"Bottom 10 states by number of accidents\")"
   ]
  },
  {
   "cell_type": "markdown",
   "id": "29f58bb3-f637-4ae7-8c29-d1f1b69b66dc",
   "metadata": {},
   "source": [
    "The bottom ten state are Rhode Island, Nebraska, Delaware, New Hampshire, New Mexico, Maine, Maryland, South Dakota, Vermont, Wyoming."
   ]
  },
  {
   "cell_type": "code",
   "execution_count": 191,
   "id": "17776957-cd96-428f-9837-b4759df264d0",
   "metadata": {},
   "outputs": [
    {
     "data": {
      "text/html": [
       "<div>\n",
       "<style scoped>\n",
       "    .dataframe tbody tr th:only-of-type {\n",
       "        vertical-align: middle;\n",
       "    }\n",
       "\n",
       "    .dataframe tbody tr th {\n",
       "        vertical-align: top;\n",
       "    }\n",
       "\n",
       "    .dataframe thead th {\n",
       "        text-align: right;\n",
       "    }\n",
       "</style>\n",
       "<table border=\"1\" class=\"dataframe\">\n",
       "  <thead>\n",
       "    <tr style=\"text-align: right;\">\n",
       "      <th></th>\n",
       "      <th>City</th>\n",
       "      <th>count</th>\n",
       "    </tr>\n",
       "  </thead>\n",
       "  <tbody>\n",
       "    <tr>\n",
       "      <th>0</th>\n",
       "      <td>Miami</td>\n",
       "      <td>30848</td>\n",
       "    </tr>\n",
       "    <tr>\n",
       "      <th>1</th>\n",
       "      <td>Los Angeles</td>\n",
       "      <td>26699</td>\n",
       "    </tr>\n",
       "    <tr>\n",
       "      <th>2</th>\n",
       "      <td>Charlotte</td>\n",
       "      <td>18749</td>\n",
       "    </tr>\n",
       "    <tr>\n",
       "      <th>3</th>\n",
       "      <td>Houston</td>\n",
       "      <td>14395</td>\n",
       "    </tr>\n",
       "    <tr>\n",
       "      <th>4</th>\n",
       "      <td>Dallas</td>\n",
       "      <td>14182</td>\n",
       "    </tr>\n",
       "    <tr>\n",
       "      <th>...</th>\n",
       "      <td>...</td>\n",
       "      <td>...</td>\n",
       "    </tr>\n",
       "    <tr>\n",
       "      <th>9595</th>\n",
       "      <td>West Hills</td>\n",
       "      <td>1</td>\n",
       "    </tr>\n",
       "    <tr>\n",
       "      <th>9596</th>\n",
       "      <td>Livingston Manor</td>\n",
       "      <td>1</td>\n",
       "    </tr>\n",
       "    <tr>\n",
       "      <th>9597</th>\n",
       "      <td>Matfield Green</td>\n",
       "      <td>1</td>\n",
       "    </tr>\n",
       "    <tr>\n",
       "      <th>9598</th>\n",
       "      <td>Bridport</td>\n",
       "      <td>1</td>\n",
       "    </tr>\n",
       "    <tr>\n",
       "      <th>9599</th>\n",
       "      <td>Polo</td>\n",
       "      <td>1</td>\n",
       "    </tr>\n",
       "  </tbody>\n",
       "</table>\n",
       "<p>9600 rows × 2 columns</p>\n",
       "</div>"
      ],
      "text/plain": [
       "                  City  count\n",
       "0                Miami  30848\n",
       "1          Los Angeles  26699\n",
       "2            Charlotte  18749\n",
       "3              Houston  14395\n",
       "4               Dallas  14182\n",
       "...                ...    ...\n",
       "9595        West Hills      1\n",
       "9596  Livingston Manor      1\n",
       "9597    Matfield Green      1\n",
       "9598          Bridport      1\n",
       "9599              Polo      1\n",
       "\n",
       "[9600 rows x 2 columns]"
      ]
     },
     "execution_count": 191,
     "metadata": {},
     "output_type": "execute_result"
    }
   ],
   "source": [
    "c = data['City'].value_counts().sort_values(ascending = False).reset_index()\n",
    "c"
   ]
  },
  {
   "cell_type": "code",
   "execution_count": 192,
   "id": "8bc34ab4-fe77-4e92-ae4e-66fcd9573969",
   "metadata": {},
   "outputs": [
    {
     "data": {
      "image/png": "[encoded data removed]",
      "text/plain": [
       "<Figure size 1500x600 with 1 Axes>"
      ]
     },
     "metadata": {},
     "output_type": "display_data"
    }
   ],
   "source": [
    "plt.figure(figsize=(15,6))\n",
    "sns.barplot(x='City',hue='City',y='count',data= c.head(10),palette='crest',legend=False)\n",
    "plt.title(\"Top 10 cities by the number of accidents\")\n",
    "plt.ylabel(\"No of accidents\")\n",
    "plt.show()"
   ]
  },
  {
   "cell_type": "code",
   "execution_count": 194,
   "id": "25d70901-db96-41b3-a10b-5b048326c5c4",
   "metadata": {},
   "outputs": [
    {
     "data": {
      "text/html": [
       "<div>\n",
       "<style scoped>\n",
       "    .dataframe tbody tr th:only-of-type {\n",
       "        vertical-align: middle;\n",
       "    }\n",
       "\n",
       "    .dataframe tbody tr th {\n",
       "        vertical-align: top;\n",
       "    }\n",
       "\n",
       "    .dataframe thead th {\n",
       "        text-align: right;\n",
       "    }\n",
       "</style>\n",
       "<table border=\"1\" class=\"dataframe\">\n",
       "  <thead>\n",
       "    <tr style=\"text-align: right;\">\n",
       "      <th></th>\n",
       "      <th>County</th>\n",
       "      <th>count</th>\n",
       "    </tr>\n",
       "  </thead>\n",
       "  <tbody>\n",
       "    <tr>\n",
       "      <th>0</th>\n",
       "      <td>Los Angeles</td>\n",
       "      <td>90720</td>\n",
       "    </tr>\n",
       "    <tr>\n",
       "      <th>1</th>\n",
       "      <td>Miami-Dade</td>\n",
       "      <td>40738</td>\n",
       "    </tr>\n",
       "    <tr>\n",
       "      <th>2</th>\n",
       "      <td>Orange</td>\n",
       "      <td>35601</td>\n",
       "    </tr>\n",
       "    <tr>\n",
       "      <th>3</th>\n",
       "      <td>San Bernardino</td>\n",
       "      <td>21786</td>\n",
       "    </tr>\n",
       "    <tr>\n",
       "      <th>4</th>\n",
       "      <td>Mecklenburg</td>\n",
       "      <td>20048</td>\n",
       "    </tr>\n",
       "    <tr>\n",
       "      <th>...</th>\n",
       "      <td>...</td>\n",
       "      <td>...</td>\n",
       "    </tr>\n",
       "    <tr>\n",
       "      <th>1573</th>\n",
       "      <td>Slope</td>\n",
       "      <td>1</td>\n",
       "    </tr>\n",
       "    <tr>\n",
       "      <th>1574</th>\n",
       "      <td>Chowan</td>\n",
       "      <td>1</td>\n",
       "    </tr>\n",
       "    <tr>\n",
       "      <th>1575</th>\n",
       "      <td>Roscommon</td>\n",
       "      <td>1</td>\n",
       "    </tr>\n",
       "    <tr>\n",
       "      <th>1576</th>\n",
       "      <td>Shannon</td>\n",
       "      <td>1</td>\n",
       "    </tr>\n",
       "    <tr>\n",
       "      <th>1577</th>\n",
       "      <td>Gogebic</td>\n",
       "      <td>1</td>\n",
       "    </tr>\n",
       "  </tbody>\n",
       "</table>\n",
       "<p>1578 rows × 2 columns</p>\n",
       "</div>"
      ],
      "text/plain": [
       "              County  count\n",
       "0        Los Angeles  90720\n",
       "1         Miami-Dade  40738\n",
       "2             Orange  35601\n",
       "3     San Bernardino  21786\n",
       "4        Mecklenburg  20048\n",
       "...              ...    ...\n",
       "1573           Slope      1\n",
       "1574          Chowan      1\n",
       "1575       Roscommon      1\n",
       "1576         Shannon      1\n",
       "1577         Gogebic      1\n",
       "\n",
       "[1578 rows x 2 columns]"
      ]
     },
     "execution_count": 194,
     "metadata": {},
     "output_type": "execute_result"
    }
   ],
   "source": [
    "country = data['County'].value_counts().sort_values(ascending = False).reset_index()\n",
    "country"
   ]
  },
  {
   "cell_type": "code",
   "execution_count": 217,
   "id": "15f3abbe-71c7-458a-91cc-018ec308a632",
   "metadata": {},
   "outputs": [
    {
     "data": {
      "image/png": "[encoded data removed]",
      "text/plain": [
       "<Figure size 1500x600 with 1 Axes>"
      ]
     },
     "metadata": {},
     "output_type": "display_data"
    }
   ],
   "source": [
    "plt.figure(figsize=(15,6))\n",
    "sns.barplot(x='County',hue='County',y='count',data= country.head(10),palette='crest',legend=False)\n",
    "plt.title(\"Top 10 countries by the number of accidents\")\n",
    "plt.xlabel(\"Country\")\n",
    "plt.ylabel(\"No of accidents\")\n",
    "plt.show()"
   ]
  },
  {
   "cell_type": "code",
   "execution_count": 196,
   "id": "9a6e77c0-65f7-4b26-9796-3ce488350fce",
   "metadata": {},
   "outputs": [
    {
     "data": {
      "text/plain": [
       "Temperature(F)\n",
       " 57.0     23518\n",
       " 59.0     23476\n",
       " 63.0     23077\n",
       " 50.0     23011\n",
       " 54.0     22799\n",
       "          ...  \n",
       " 109.6        1\n",
       " 101.3        1\n",
       " 106.3        1\n",
       " 106.5        1\n",
       "-25.0         1\n",
       "Name: count, Length: 690, dtype: int64"
      ]
     },
     "execution_count": 196,
     "metadata": {},
     "output_type": "execute_result"
    }
   ],
   "source": [
    "data['Temperature(F)'].value_counts()"
   ]
  },
  {
   "cell_type": "code",
   "execution_count": 197,
   "id": "0dc689fb-ac9f-4011-80fd-ebd67a3b2a93",
   "metadata": {},
   "outputs": [
    {
     "data": {
      "text/plain": [
       "<Axes: ylabel='Temperature(F)'>"
      ]
     },
     "execution_count": 197,
     "metadata": {},
     "output_type": "execute_result"
    },
    {
     "data": {
      "image/png": "[encoded data removed]",
      "text/plain": [
       "<Figure size 640x480 with 1 Axes>"
      ]
     },
     "metadata": {},
     "output_type": "display_data"
    }
   ],
   "source": [
    "sns.boxenplot(data['Temperature(F)'])"
   ]
  },
  {
   "cell_type": "markdown",
   "id": "d2331503-19c2-4752-8b06-03b0eac1229d",
   "metadata": {},
   "source": [
    "Most of the accidents occur in areas having temperature in the range of (50–60) degrees Fahrenheit.\n",
    "\n"
   ]
  },
  {
   "cell_type": "code",
   "execution_count": 198,
   "id": "471421c1-2141-472f-a2c7-bb11fb822257",
   "metadata": {},
   "outputs": [
    {
     "data": {
      "text/plain": [
       "<Axes: ylabel='count'>"
      ]
     },
     "execution_count": 198,
     "metadata": {},
     "output_type": "execute_result"
    },
    {
     "data": {
      "image/png": "[encoded data removed]",
      "text/plain": [
       "<Figure size 640x480 with 1 Axes>"
      ]
     },
     "metadata": {},
     "output_type": "display_data"
    }
   ],
   "source": [
    "data['Traffic_Signal'].value_counts().plot(kind='pie')"
   ]
  },
  {
   "cell_type": "markdown",
   "id": "c44a5062-e0a9-4192-bf4e-1868c84ac4bc",
   "metadata": {},
   "source": [
    "Poor traffic management is a cause for majority of the accidents."
   ]
  },
  {
   "cell_type": "code",
   "execution_count": 199,
   "id": "28f17d7c-55b2-45c8-9a09-a9c858345af4",
   "metadata": {},
   "outputs": [
    {
     "data": {
      "text/plain": [
       "<Axes: ylabel='count'>"
      ]
     },
     "execution_count": 199,
     "metadata": {},
     "output_type": "execute_result"
    },
    {
     "data": {
      "image/png": "[encoded data removed]",
      "text/plain": [
       "<Figure size 640x480 with 1 Axes>"
      ]
     },
     "metadata": {},
     "output_type": "display_data"
    }
   ],
   "source": [
    "data['Bump'].value_counts().plot(kind='pie')"
   ]
  },
  {
   "cell_type": "markdown",
   "id": "0df9b9c9-ccca-478a-868f-81ea976211f2",
   "metadata": {},
   "source": [
    "Speed control mechanisms are inadequate in the recorded accidents."
   ]
  },
  {
   "cell_type": "code",
   "execution_count": 200,
   "id": "193018a2-fcfd-4d07-ba7e-1213cd5a64ac",
   "metadata": {},
   "outputs": [
    {
     "data": {
      "text/plain": [
       "Index([2, 3, 4, 1], dtype='int64', name='Severity')"
      ]
     },
     "execution_count": 200,
     "metadata": {},
     "output_type": "execute_result"
    }
   ],
   "source": [
    "data['Severity'].value_counts().index"
   ]
  },
  {
   "cell_type": "code",
   "execution_count": 201,
   "id": "9680aabc-d81b-4c29-863e-95e01435d122",
   "metadata": {},
   "outputs": [
    {
     "data": {
      "image/png": "[encoded data removed]",
      "text/plain": [
       "<Figure size 800x800 with 1 Axes>"
      ]
     },
     "metadata": {},
     "output_type": "display_data"
    }
   ],
   "source": [
    "plt.figure(figsize=(8,8))\n",
    "plt.pie(data['Severity'].value_counts(),labels=['severe','more-severe','most-severe','least-severe'],autopct=\"%1.2f%%\")\n",
    "plt.show()"
   ]
  },
  {
   "cell_type": "code",
   "execution_count": 202,
   "id": "462cb5bc-895f-4891-a2a2-36dfbdfa1337",
   "metadata": {},
   "outputs": [
    {
     "data": {
      "text/plain": [
       "0             8/2/2016 0:37\n",
       "1             8/2/2016 5:56\n",
       "2             8/2/2016 6:15\n",
       "3             8/2/2016 6:15\n",
       "4             8/2/2016 6:51\n",
       "                 ...       \n",
       "1048570    10/12/2019 17:05\n",
       "1048571    10/12/2019 17:02\n",
       "1048572    10/12/2019 17:11\n",
       "1048573    10/12/2019 17:04\n",
       "1048574    10/12/2019 17:02\n",
       "Name: Start_Time, Length: 1048575, dtype: object"
      ]
     },
     "execution_count": 202,
     "metadata": {},
     "output_type": "execute_result"
    }
   ],
   "source": [
    "data.Start_Time"
   ]
  },
  {
   "cell_type": "code",
   "execution_count": 203,
   "id": "8e94cd4b-770d-42fd-877a-075262e08017",
   "metadata": {},
   "outputs": [],
   "source": [
    "#Convert the 'Start_Time' column to datetime format\n",
    "date= pd.to_datetime(data['Start_Time'], errors='coerce')"
   ]
  },
  {
   "cell_type": "code",
   "execution_count": 204,
   "id": "d6acab81-49be-44ca-a9fa-2d8c7b2d70cc",
   "metadata": {},
   "outputs": [
    {
     "data": {
      "text/plain": [
       "0         2016-08-02 00:37:00\n",
       "1         2016-08-02 05:56:00\n",
       "2         2016-08-02 06:15:00\n",
       "3         2016-08-02 06:15:00\n",
       "4         2016-08-02 06:51:00\n",
       "                  ...        \n",
       "1048570   2019-10-12 17:05:00\n",
       "1048571   2019-10-12 17:02:00\n",
       "1048572   2019-10-12 17:11:00\n",
       "1048573   2019-10-12 17:04:00\n",
       "1048574   2019-10-12 17:02:00\n",
       "Name: Start_Time, Length: 1048575, dtype: datetime64[ns]"
      ]
     },
     "execution_count": 204,
     "metadata": {},
     "output_type": "execute_result"
    }
   ],
   "source": [
    "date"
   ]
  },
  {
   "cell_type": "code",
   "execution_count": 205,
   "id": "624a6cb2-b56c-412b-9430-66ff157b0f31",
   "metadata": {},
   "outputs": [
    {
     "data": {
      "text/plain": [
       "0           0.0\n",
       "1           5.0\n",
       "2           6.0\n",
       "3           6.0\n",
       "4           6.0\n",
       "           ... \n",
       "1048570    17.0\n",
       "1048571    17.0\n",
       "1048572    17.0\n",
       "1048573    17.0\n",
       "1048574    17.0\n",
       "Name: Start_Time, Length: 1048575, dtype: float64"
      ]
     },
     "execution_count": 205,
     "metadata": {},
     "output_type": "execute_result"
    }
   ],
   "source": [
    "date.dt.hour"
   ]
  },
  {
   "cell_type": "code",
   "execution_count": 214,
   "id": "674712d9-7a2a-47bc-ae2c-2f80d9456df9",
   "metadata": {},
   "outputs": [
    {
     "data": {
      "text/plain": [
       "Text(0.5, 0, 'Hour')"
      ]
     },
     "execution_count": 214,
     "metadata": {},
     "output_type": "execute_result"
    },
    {
     "data": {
      "image/png": "[encoded data removed]",
      "text/plain": [
       "<Figure size 640x480 with 1 Axes>"
      ]
     },
     "metadata": {},
     "output_type": "display_data"
    }
   ],
   "source": [
    "sns.histplot(date.dt.hour, bins = 24)\n",
    "plt.xlabel(\"Hour\")"
   ]
  },
  {
   "cell_type": "markdown",
   "id": "1b02d42f-9cb2-4bf4-9758-d924cc9d826d",
   "metadata": {},
   "source": [
    "There are two peaks of time- one in the morning in between 6 am to 9 am and another between 3 pm to 6 pm. As these are the rush hours in the morning and evening leading to more accidents."
   ]
  },
  {
   "cell_type": "code",
   "execution_count": 213,
   "id": "81f8dc35-8d3f-44a7-b999-945252d244dc",
   "metadata": {},
   "outputs": [
    {
     "data": {
      "text/plain": [
       "Text(0.5, 0, 'Months')"
      ]
     },
     "execution_count": 213,
     "metadata": {},
     "output_type": "execute_result"
    },
    {
     "data": {
      "image/png": "[encoded data removed]",
      "text/plain": [
       "<Figure size 640x480 with 1 Axes>"
      ]
     },
     "metadata": {},
     "output_type": "display_data"
    }
   ],
   "source": [
    "#plot for months\n",
    "sns.histplot(date.dt.month, bins = 12)\n",
    "plt.xlabel(\"Months\")"
   ]
  },
  {
   "cell_type": "code",
   "execution_count": 208,
   "id": "ffc4e37b-ebca-4cd0-996e-14964a32c26b",
   "metadata": {},
   "outputs": [],
   "source": [
    "data['Year'] = date.dt.year"
   ]
  },
  {
   "cell_type": "code",
   "execution_count": 209,
   "id": "413dd71c-cac6-4e6c-bf71-6985f7a5d069",
   "metadata": {},
   "outputs": [
    {
     "data": {
      "image/png": "[encoded data removed]",
      "text/plain": [
       "<Figure size 640x480 with 1 Axes>"
      ]
     },
     "metadata": {},
     "output_type": "display_data"
    }
   ],
   "source": [
    "year_count = data['Year'].value_counts().reset_index()\n",
    "sns.barplot(x='Year',hue='Year',y='count',data=year_count,palette='mako')\n",
    "plt.title(\"Years with most number of accidents\")\n",
    "plt.show()"
   ]
  },
  {
   "cell_type": "code",
   "execution_count": 215,
   "id": "e07af30e-522e-42a6-85a3-0ff6d36ddc0b",
   "metadata": {},
   "outputs": [
    {
     "data": {
      "image/png": "[encoded data removed]",
      "text/plain": [
       "<Figure size 300x500 with 1 Axes>"
      ]
     },
     "metadata": {},
     "output_type": "display_data"
    }
   ],
   "source": [
    "#Distribution of accidents by period of day\n",
    "plt.figure(figsize=(3, 5))\n",
    "sns.histplot(data['Sunrise_Sunset'], bins=4, color='orange')\n",
    "plt.xlabel(\"Period of day\")\n",
    "plt.ylabel('Number of Accidents')\n",
    "plt.show()\n"
   ]
  },
  {
   "cell_type": "code",
   "execution_count": 211,
   "id": "17d0f758-4fec-48a7-b973-d990e807b35b",
   "metadata": {},
   "outputs": [
    {
     "data": {
      "image/png": "[encoded data removed]",
      "text/plain": [
       "<Figure size 640x480 with 1 Axes>"
      ]
     },
     "metadata": {},
     "output_type": "display_data"
    }
   ],
   "source": [
    "weather = data['Weather_Condition'].value_counts().sort_values(ascending=False).reset_index()\n",
    "sns.barplot(x='count',y='Weather_Condition',hue='Weather_Condition',data=weather[:10],orient='horizontal',palette='viridis')\n",
    "plt.show()"
   ]
  },
  {
   "cell_type": "markdown",
   "id": "7d98b9ca-c97e-43b5-b5b7-e5e754b891eb",
   "metadata": {},
   "source": [
    "The weather conditions seem to be “Fair”, “Cloudy” and “Mostly Cloudy” in most cases."
   ]
  },
  {
   "cell_type": "code",
   "execution_count": 212,
   "id": "a995aad4-6582-48da-ac7e-443c73de2856",
   "metadata": {},
   "outputs": [
    {
     "data": {
      "text/plain": [
       "<Axes: ylabel='count'>"
      ]
     },
     "execution_count": 212,
     "metadata": {},
     "output_type": "execute_result"
    },
    {
     "data": {
      "image/png": "[encoded data removed]",
      "text/plain": [
       "<Figure size 640x480 with 1 Axes>"
      ]
     },
     "metadata": {},
     "output_type": "display_data"
    }
   ],
   "source": [
    "data['Crossing'].value_counts().plot(kind= 'pie')"
   ]
  },
  {
   "cell_type": "markdown",
   "id": "d1d69f80-947a-4b18-9dba-3c9b537a5e96",
   "metadata": {},
   "source": [
    "The accidents mostly happened away from a crossing. This brings to the query of proper signaling systems in these areas."
   ]
  },
  {
   "cell_type": "code",
   "execution_count": null,
   "id": "0190b8e2-ccba-4109-a3c5-ce219cc24f2e",
   "metadata": {},
   "outputs": [],
   "source": []
  }
 ],
 "metadata": {
  "kernelspec": {
   "display_name": "Python 3 (ipykernel)",
   "language": "python",
   "name": "python3"
  },
  "language_info": {
   "codemirror_mode": {
    "name": "ipython",
    "version": 3
   },
   "file_extension": ".py",
   "mimetype": "text/x-python",
   "name": "python",
   "nbconvert_exporter": "python",
   "pygments_lexer": "ipython3",
   "version": "3.12.6"
  }
 },
 "nbformat": 4,
 "nbformat_minor": 5
}
